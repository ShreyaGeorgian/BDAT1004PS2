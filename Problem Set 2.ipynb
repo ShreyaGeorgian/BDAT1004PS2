{
 "cells": [
  {
   "cell_type": "markdown",
   "id": "e71ba121",
   "metadata": {},
   "source": [
    "Question 1:"
   ]
  },
  {
   "cell_type": "code",
   "execution_count": 121,
   "id": "411b02c2",
   "metadata": {},
   "outputs": [
    {
     "data": {
      "text/plain": [
       "6"
      ]
     },
     "execution_count": 121,
     "metadata": {},
     "output_type": "execute_result"
    }
   ],
   "source": [
    "a = 0\n",
    "\n",
    "def b():\n",
    "    global a\n",
    "    a = c(a)\n",
    "    \n",
    "def c(a):\n",
    "    return a+2\n",
    "    \n",
    "b() \n",
    "b()\n",
    "b()\n",
    "a\n",
    "\n",
    "\n"
   ]
  },
  {
   "cell_type": "markdown",
   "id": "5dfd4151",
   "metadata": {},
   "source": [
    ">>>b() = The value of a = 0 and a is set as global variable it means its accissible in the entire class therefore, when we call the first function b() the value is updated to 2\n",
    ">>>b() = 2 +2 = 4\n",
    ">>>B() = 4+2 =6\n",
    "therefore Value of a when executed it is updated to 6"
   ]
  },
  {
   "cell_type": "markdown",
   "id": "98399395",
   "metadata": {},
   "source": [
    "Question 2: "
   ]
  },
  {
   "cell_type": "code",
   "execution_count": 122,
   "id": "6e8c8166",
   "metadata": {},
   "outputs": [],
   "source": [
    "def file_length(file_name):\n",
    "    try:\n",
    "        file = open(file_name)\n",
    "        contents = file.readLines()\n",
    "        file.close()\n",
    "        print(\"The total number of lines in file {} is {}\".format(file_name,len(contents)))\n",
    "    except:\n",
    "        print(\"File {} not found\".format(file_name))\n",
    "    "
   ]
  },
  {
   "cell_type": "code",
   "execution_count": 123,
   "id": "48c5fcb8",
   "metadata": {},
   "outputs": [
    {
     "name": "stdout",
     "output_type": "stream",
     "text": [
      "File FileLength.txt not found\n",
      "File idterm.py not found\n"
     ]
    }
   ],
   "source": [
    "file_length('FileLength.txt')\n",
    "file_length('idterm.py')\n"
   ]
  },
  {
   "cell_type": "markdown",
   "id": "967bc11f",
   "metadata": {},
   "source": [
    "Question 3:"
   ]
  },
  {
   "cell_type": "code",
   "execution_count": 124,
   "id": "4622a9c9",
   "metadata": {},
   "outputs": [],
   "source": [
    "class Marsupial:\n",
    "    def __init__(self):\n",
    "        self.one = []\n",
    "    def put_in_pouch(self, input):\n",
    "        self.one.append(input)\n",
    "    def pouch_contents(self):\n",
    "        print(self.one)"
   ]
  },
  {
   "cell_type": "code",
   "execution_count": 125,
   "id": "ce5dbfbe",
   "metadata": {},
   "outputs": [
    {
     "name": "stdout",
     "output_type": "stream",
     "text": [
      "['doll', 'firetruck', 'kitten']\n"
     ]
    }
   ],
   "source": [
    "m = Marsupial()\n",
    "m.put_in_pouch('doll')\n",
    "m.put_in_pouch('firetruck')\n",
    "m.put_in_pouch('kitten')\n",
    "m.pouch_contents()"
   ]
  },
  {
   "cell_type": "code",
   "execution_count": 126,
   "id": "cbe7f56b",
   "metadata": {},
   "outputs": [],
   "source": [
    "class Kangaroo(Marsupial):\n",
    "    def __init__(self, xaxis,yaxis):\n",
    "            self.x = xaxis\n",
    "            self.y = yaxis\n",
    "            self.one = []\n",
    "    def print(self):\n",
    "        print(\"I am a Kangaroo located at coordinates:\", \"(\",self.x,\",\",self.y,\")\")\n",
    "        \n",
    "    def jump(self, xCord, yCord):\n",
    "        self.x += xCord\n",
    "        self.y += yCord\n",
    "        return (self.x, self.y)"
   ]
  },
  {
   "cell_type": "code",
   "execution_count": 127,
   "id": "f561e714",
   "metadata": {},
   "outputs": [
    {
     "name": "stdout",
     "output_type": "stream",
     "text": [
      "I am a Kangaroo located at coordinates: ( 0 , 0 )\n",
      "['doll', 'firetruck', 'kitten']\n"
     ]
    }
   ],
   "source": [
    "k = Kangaroo(0,0)\n",
    "k.print()\n",
    "k.put_in_pouch('doll')\n",
    "k.put_in_pouch('firetruck')\n",
    "k.put_in_pouch('kitten')\n",
    "k.pouch_contents()"
   ]
  },
  {
   "cell_type": "code",
   "execution_count": 128,
   "id": "04188299",
   "metadata": {},
   "outputs": [
    {
     "name": "stdout",
     "output_type": "stream",
     "text": [
      "I am a Kangaroo located at coordinates: ( 3 , 0 )\n"
     ]
    }
   ],
   "source": [
    "k.jump(1,0)\n",
    "k.jump(1,0)\n",
    "k.jump(1,0)\n",
    "k.print()"
   ]
  },
  {
   "cell_type": "markdown",
   "id": "617c7db9",
   "metadata": {},
   "source": [
    "Question 4: "
   ]
  },
  {
   "cell_type": "code",
   "execution_count": 129,
   "id": "d6aeb6ee",
   "metadata": {},
   "outputs": [],
   "source": [
    "def collatz(number):\n",
    "    print(number)\n",
    "    if number==1:\n",
    "        pass\n",
    "    else:\n",
    "        if number%2 == 0: \n",
    "            number = int(number/2)\n",
    "            collatz(number)\n",
    "        else: \n",
    "            number = int(3*number + 1)\n",
    "            collatz(number)"
   ]
  },
  {
   "cell_type": "code",
   "execution_count": 130,
   "id": "17c9f1c4",
   "metadata": {},
   "outputs": [
    {
     "name": "stdout",
     "output_type": "stream",
     "text": [
      "1\n"
     ]
    }
   ],
   "source": [
    "collatz(1)"
   ]
  },
  {
   "cell_type": "code",
   "execution_count": 131,
   "id": "788a737e",
   "metadata": {},
   "outputs": [
    {
     "name": "stdout",
     "output_type": "stream",
     "text": [
      "10\n",
      "5\n",
      "16\n",
      "8\n",
      "4\n",
      "2\n",
      "1\n"
     ]
    }
   ],
   "source": [
    "collatz(10)"
   ]
  },
  {
   "cell_type": "markdown",
   "id": "d3898db7",
   "metadata": {},
   "source": [
    "Question 5:"
   ]
  },
  {
   "cell_type": "code",
   "execution_count": 132,
   "id": "6a16bb9d",
   "metadata": {},
   "outputs": [],
   "source": [
    "def binary(number):\n",
    "    print(number%2,end = '')\n",
    "    \n",
    "    if number == 1 or number==0:\n",
    "        pass\n",
    "    else:\n",
    "        num = int(number / 2)\n",
    "        binary(num)"
   ]
  },
  {
   "cell_type": "code",
   "execution_count": 133,
   "id": "da09a573",
   "metadata": {},
   "outputs": [
    {
     "name": "stdout",
     "output_type": "stream",
     "text": [
      "0"
     ]
    }
   ],
   "source": [
    "binary(0)"
   ]
  },
  {
   "cell_type": "code",
   "execution_count": 134,
   "id": "794154e8",
   "metadata": {},
   "outputs": [
    {
     "name": "stdout",
     "output_type": "stream",
     "text": [
      "1"
     ]
    }
   ],
   "source": [
    "binary(1)"
   ]
  },
  {
   "cell_type": "code",
   "execution_count": 135,
   "id": "696d9ee1",
   "metadata": {},
   "outputs": [
    {
     "name": "stdout",
     "output_type": "stream",
     "text": [
      "11"
     ]
    }
   ],
   "source": [
    "binary(3)"
   ]
  },
  {
   "cell_type": "code",
   "execution_count": 136,
   "id": "5b42e7d4",
   "metadata": {},
   "outputs": [
    {
     "name": "stdout",
     "output_type": "stream",
     "text": [
      "1001"
     ]
    }
   ],
   "source": [
    "binary(9)"
   ]
  },
  {
   "cell_type": "markdown",
   "id": "8e2c2ecf",
   "metadata": {},
   "source": [
    "Question 6:"
   ]
  },
  {
   "cell_type": "code",
   "execution_count": 141,
   "id": "9d16a662",
   "metadata": {},
   "outputs": [],
   "source": [
    "from html.parser import HTMLParser\n",
    "class HeadingParser(HTMLParser): \n",
    "    \n",
    "    def __init__(self):\n",
    "        HTMLParser.__init__(self)\n",
    "        self.header = ''\n",
    "    \n",
    "    def handle_starttag(self, tag, attrs):\n",
    "        if tag in ['h1','h2','h3','h4','h5']:\n",
    "            self.header = tag\n",
    "            #print(self.headerTag) \n",
    "    \n",
    "    def handle_data(self, attrs):\n",
    "        if self.header in ['h1','h2','h3','h4','h5']:\n",
    "            self.header = list(self.header)\n",
    "            indent = (int(self.header[1])-1) * ' ' \n",
    "            print(indent + attrs)"
   ]
  },
  {
   "cell_type": "code",
   "execution_count": 142,
   "id": "a5a070a6",
   "metadata": {},
   "outputs": [
    {
     "name": "stdout",
     "output_type": "stream",
     "text": [
      "W3C Mission\n",
      " Principles\n"
     ]
    }
   ],
   "source": [
    "infile = open('w3c.html')\n",
    "content = infile.read()\n",
    "infile.close()\n",
    "hp = HeadingParser()\n",
    "hp.feed(content)"
   ]
  },
  {
   "cell_type": "markdown",
   "id": "faa3055d",
   "metadata": {},
   "source": [
    "Question 7:"
   ]
  },
  {
   "cell_type": "code",
   "execution_count": 145,
   "id": "a4c7a5c1",
   "metadata": {},
   "outputs": [],
   "source": [
    "from html.parser import HTMLParser\n",
    "import requests\n",
    "\n",
    "class UrlParser(HTMLParser):               \n",
    " \n",
    "    def __init__(self):\n",
    "        self.urls = []                     \n",
    "        HTMLParser.__init__(self)\n",
    "\n",
    "    def handle_starttag(self, tag, attrs):\n",
    "        self.start_tag = tag\n",
    "        if tag == 'a':                      \n",
    "            for name,value in attrs:\n",
    "                if name == 'href':\n",
    "                    self.urls.append(value)\n",
    "    def getUrls(self):                   \n",
    "        return self.urls\n",
    "    \n",
    "def webdir(url,depth,indent):\n",
    "    if(depth==-1):\n",
    "        return\n",
    "    tabs = \"\"\n",
    "    for x in range(indent):            \n",
    "        tabs = tabs+\"\\t\"\n",
    "    print(tabs+url)\n",
    "    \n",
    "    urlParser = UrlParser()\n",
    "    htmlRequest = requests.get(url)\n",
    "    urlParser.feed(htmlRequest.text)\n",
    "    urls = urlParser.getUrls()\n",
    "\n",
    "    for _url in urls:\n",
    "        if(not 'http' in _url):\n",
    "            _url = url+_url\n",
    "        webdir(_url,depth-1,indent+1)"
   ]
  },
  {
   "cell_type": "code",
   "execution_count": 146,
   "id": "68cb9ad4",
   "metadata": {},
   "outputs": [
    {
     "name": "stdout",
     "output_type": "stream",
     "text": [
      "http://reed.cs.depaul.edu/lperkovic/test1.html\n",
      "\thttp://reed.cs.depaul.edu/lperkovic/test2.html\n",
      "\t\thttp://reed.cs.depaul.edu/lperkovic/test2.htmlmailto:lperkovic@cs.depaul.edu\n",
      "\t\thttp://reed.cs.depaul.edu/lperkovic/test2.htmltest4.html\n",
      "\thttp://reed.cs.depaul.edu/lperkovic/test1.htmltest3.html\n"
     ]
    }
   ],
   "source": [
    "webdir('http://reed.cs.depaul.edu/lperkovic/test1.html',2,0)"
   ]
  },
  {
   "cell_type": "markdown",
   "id": "4fd68085",
   "metadata": {},
   "source": [
    "Question 8:"
   ]
  },
  {
   "cell_type": "code",
   "execution_count": 148,
   "id": "0a0766d2",
   "metadata": {},
   "outputs": [
    {
     "data": {
      "text/plain": [
       "[('Mumbai', 'India', 'Winter', 24.8, 5.9),\n",
       " ('Mumbai', 'India', 'Spring', 28.4, 16.2),\n",
       " ('Mumbai', 'India', 'Summer', 27.9, 1549.4),\n",
       " ('Mumbai', 'India', 'Fall', 27.6, 346.0),\n",
       " ('London', 'United Kindom', 'Winter', 4.2, 207.7),\n",
       " ('London', 'United Kindom', 'Spring', 8.3, 169.6),\n",
       " ('London', 'United Kindom', 'Summer', 15.7, 157.0),\n",
       " ('London', 'United Kindom', 'Fall', 10.4, 218.5),\n",
       " ('Cairo', 'Egypt', 'Winter', 13.6, 16.5),\n",
       " ('Cairo', 'Egypt', 'Spring', 20.7, 6.5),\n",
       " ('Cairo', 'Egypt', 'Summer', 27.7, 0.1),\n",
       " ('Cairo', 'Egypt', 'Fall', 22.2, 4.5)]"
      ]
     },
     "execution_count": 148,
     "metadata": {},
     "output_type": "execute_result"
    }
   ],
   "source": [
    "import sqlite3\n",
    "con = sqlite3.connect('FILE1.db')\n",
    "cur = con.cursor()\n",
    "cur.execute(\"CREATE TABLE City_Details (City text, Country text, Season text, Temperature real, Rainfall real)\")\n",
    "cur.execute(\"INSERT INTO City_Details VALUES ('Mumbai', 'India', 'Winter', 24.8, 5.9), ('Mumbai','India', 'Spring', 28.4, 16.2), ('Mumbai','India', 'Summer', 27.9, 1549.4), ('Mumbai','India', 'Fall', 27.6, 346.0)\")\n",
    "cur.execute(\"INSERT INTO City_Details VALUES ('London', 'United Kindom', 'Winter', 4.2, 207.7), ('London', 'United Kindom', 'Spring', 8.3, 169.6), ('London', 'United Kindom', 'Summer', 15.7, 157.0), ('London', 'United Kindom', 'Fall', 10.4, 218.5)\")\n",
    "cur.execute(\"INSERT INTO City_Details VALUES ('Cairo', 'Egypt', 'Winter', 13.6, 16.5), ('Cairo', 'Egypt', 'Spring', 20.7, 6.5), ('Cairo', 'Egypt', 'Summer', 27.7, 0.1), ('Cairo', 'Egypt', 'Fall', 22.2, 4.5)\")\n",
    "cur.execute('SELECT * FROM City_Details')\n",
    "cur.fetchall()"
   ]
  },
  {
   "cell_type": "code",
   "execution_count": 149,
   "id": "d34e713d",
   "metadata": {},
   "outputs": [
    {
     "data": {
      "text/plain": [
       "[(24.8,),\n",
       " (28.4,),\n",
       " (27.9,),\n",
       " (27.6,),\n",
       " (4.2,),\n",
       " (8.3,),\n",
       " (15.7,),\n",
       " (10.4,),\n",
       " (13.6,),\n",
       " (20.7,),\n",
       " (27.7,),\n",
       " (22.2,)]"
      ]
     },
     "execution_count": 149,
     "metadata": {},
     "output_type": "execute_result"
    }
   ],
   "source": [
    "#SQL Answer: A\n",
    "cur.execute(\"SELECT Temperature FROM City_Details\")\n",
    "cur.fetchall()"
   ]
  },
  {
   "cell_type": "code",
   "execution_count": 150,
   "id": "47a53038",
   "metadata": {},
   "outputs": [
    {
     "data": {
      "text/plain": [
       "[('Mumbai',), ('London',), ('Cairo',)]"
      ]
     },
     "execution_count": 150,
     "metadata": {},
     "output_type": "execute_result"
    }
   ],
   "source": [
    "#SQL Answer: B\n",
    "cur.execute(\"SELECT DISTINCT city FROM City_Details\")\n",
    "cur.fetchall()"
   ]
  },
  {
   "cell_type": "code",
   "execution_count": 151,
   "id": "f67a067d",
   "metadata": {},
   "outputs": [
    {
     "data": {
      "text/plain": [
       "[('Mumbai', 'India', 'Winter', 24.8, 5.9),\n",
       " ('Mumbai', 'India', 'Spring', 28.4, 16.2),\n",
       " ('Mumbai', 'India', 'Summer', 27.9, 1549.4),\n",
       " ('Mumbai', 'India', 'Fall', 27.6, 346.0)]"
      ]
     },
     "execution_count": 151,
     "metadata": {},
     "output_type": "execute_result"
    }
   ],
   "source": [
    "#SQL Answer: C\n",
    "cur.execute(\"SELECT * FROM City_Details WHERE country = 'India'\")\n",
    "cur.fetchall()"
   ]
  },
  {
   "cell_type": "code",
   "execution_count": 152,
   "id": "942f8aa1",
   "metadata": {},
   "outputs": [
    {
     "data": {
      "text/plain": [
       "[('Mumbai', 'India', 'Fall', 27.6, 346.0),\n",
       " ('London', 'United Kindom', 'Fall', 10.4, 218.5),\n",
       " ('Cairo', 'Egypt', 'Fall', 22.2, 4.5)]"
      ]
     },
     "execution_count": 152,
     "metadata": {},
     "output_type": "execute_result"
    }
   ],
   "source": [
    "#SQL Answer: D\n",
    "cur.execute(\"SELECT * FROM City_Details where Season = 'Fall'\")\n",
    "cur.fetchall()"
   ]
  },
  {
   "cell_type": "code",
   "execution_count": 153,
   "id": "5862d94f",
   "metadata": {},
   "outputs": [
    {
     "data": {
      "text/plain": [
       "[('Mumbai', 'India', 'Fall'),\n",
       " ('London', 'United Kindom', 'Winter'),\n",
       " ('London', 'United Kindom', 'Fall')]"
      ]
     },
     "execution_count": 153,
     "metadata": {},
     "output_type": "execute_result"
    }
   ],
   "source": [
    "#SQL Answer: E\n",
    "cur.execute(\"SELECT City, Country, Season FROM City_Details WHERE Rainfall BETWEEN 200 AND 400\")\n",
    "cur.fetchall()"
   ]
  },
  {
   "cell_type": "code",
   "execution_count": 154,
   "id": "45a69c2a",
   "metadata": {},
   "outputs": [
    {
     "data": {
      "text/plain": [
       "[('Cairo', 'Egypt'), ('Mumbai', 'India')]"
      ]
     },
     "execution_count": 154,
     "metadata": {},
     "output_type": "execute_result"
    }
   ],
   "source": [
    "#SQL Answer: F\n",
    "cur.execute(\"SELECT city, country FROM City_Details WHERE season = 'Fall' AND temperature > 20 ORDER BY temperature ASC\")\n",
    "cur.fetchall()"
   ]
  },
  {
   "cell_type": "code",
   "execution_count": 155,
   "id": "8815d87c",
   "metadata": {},
   "outputs": [
    {
     "data": {
      "text/plain": [
       "[(27.6,)]"
      ]
     },
     "execution_count": 155,
     "metadata": {},
     "output_type": "execute_result"
    }
   ],
   "source": [
    "#SQL Answer: G\n",
    "cur.execute(\"SELECT SUM(rainfall) AS Total FROM City_Details WHERE city = 'Cairo'\")\n",
    "cur.fetchall()"
   ]
  },
  {
   "cell_type": "code",
   "execution_count": 156,
   "id": "d3a8d3ea",
   "metadata": {},
   "outputs": [
    {
     "data": {
      "text/plain": [
       "[('Fall', 569.0), ('Spring', 192.3), ('Summer', 1706.5), ('Winter', 230.1)]"
      ]
     },
     "execution_count": 156,
     "metadata": {},
     "output_type": "execute_result"
    }
   ],
   "source": [
    "#SQL Answer: H\n",
    "cur.execute(\"SELECT Season, Round(Sum(Rainfall),2) FROM City_Details GROUP BY Season\")\n",
    "cur.fetchall()"
   ]
  },
  {
   "cell_type": "markdown",
   "id": "a8de300a",
   "metadata": {},
   "source": [
    "Question 9"
   ]
  },
  {
   "cell_type": "code",
   "execution_count": 157,
   "id": "60d1fbb1",
   "metadata": {},
   "outputs": [],
   "source": [
    "words = ['The', 'quick', 'brown', 'fox', 'jumps', 'over', 'the', 'lazy', 'dog']\n",
    "\n",
    "# Here I have precisly used loop to check each words as asked in the question."
   ]
  },
  {
   "cell_type": "code",
   "execution_count": 158,
   "id": "9d433ce0",
   "metadata": {},
   "outputs": [
    {
     "name": "stdout",
     "output_type": "stream",
     "text": [
      "['THE', 'QUICK', 'BROWN', 'FOX', 'JUMPS', 'OVER', 'THE', 'LAZY', 'DOG']\n"
     ]
    }
   ],
   "source": [
    "#Answer A)\n",
    "for i in range(len(words)):\n",
    "    words[i] = words[i].upper()          \n",
    "print(words)"
   ]
  },
  {
   "cell_type": "code",
   "execution_count": 159,
   "id": "8c4d882a",
   "metadata": {},
   "outputs": [
    {
     "name": "stdout",
     "output_type": "stream",
     "text": [
      "['the', 'quick', 'brown', 'fox', 'jumps', 'over', 'the', 'lazy', 'dog']\n"
     ]
    }
   ],
   "source": [
    "#Answer B)\n",
    "\n",
    "for i in range(len(words)):\n",
    "    words[i] = words[i].lower()          \n",
    "print(words)"
   ]
  },
  {
   "cell_type": "code",
   "execution_count": 160,
   "id": "7695bd51",
   "metadata": {},
   "outputs": [
    {
     "name": "stdout",
     "output_type": "stream",
     "text": [
      "[3, 5, 5, 3, 5, 4, 3, 4, 3]\n"
     ]
    }
   ],
   "source": [
    "#Answer C)\n",
    "\n",
    "letterCount = [len(i) for i in words]          \n",
    "print(letterCount)"
   ]
  },
  {
   "cell_type": "code",
   "execution_count": 161,
   "id": "74124cd9",
   "metadata": {},
   "outputs": [
    {
     "name": "stdout",
     "output_type": "stream",
     "text": [
      "[('THE', 'the', 3), ('QUICK', 'quick', 5), ('BROWN', 'brown', 5), ('FOX', 'fox', 3), ('JUMPS', 'jumps', 5), ('OVER', 'over', 4), ('THE', 'the', 3), ('LAZY', 'lazy', 4), ('DOG', 'dog', 3)]\n"
     ]
    }
   ],
   "source": [
    "#Answer D)\n",
    "\n",
    "wordsList = [(word.upper(), word.lower(),len(word)) for word in words]\n",
    "print (wordsList)"
   ]
  },
  {
   "cell_type": "code",
   "execution_count": 162,
   "id": "6cd0f8c0",
   "metadata": {},
   "outputs": [
    {
     "name": "stdout",
     "output_type": "stream",
     "text": [
      "['quick', 'brown', 'jumps', 'over', 'lazy']\n"
     ]
    }
   ],
   "source": [
    "#Answer E)\n",
    "\n",
    "listWords = [i for i in words if len(i) >= 4]       \n",
    "print(listWords)"
   ]
  },
  {
   "cell_type": "code",
   "execution_count": null,
   "id": "e05f0b31",
   "metadata": {},
   "outputs": [],
   "source": []
  }
 ],
 "metadata": {
  "kernelspec": {
   "display_name": "Python 3 (ipykernel)",
   "language": "python",
   "name": "python3"
  },
  "language_info": {
   "codemirror_mode": {
    "name": "ipython",
    "version": 3
   },
   "file_extension": ".py",
   "mimetype": "text/x-python",
   "name": "python",
   "nbconvert_exporter": "python",
   "pygments_lexer": "ipython3",
   "version": "3.9.12"
  }
 },
 "nbformat": 4,
 "nbformat_minor": 5
}
